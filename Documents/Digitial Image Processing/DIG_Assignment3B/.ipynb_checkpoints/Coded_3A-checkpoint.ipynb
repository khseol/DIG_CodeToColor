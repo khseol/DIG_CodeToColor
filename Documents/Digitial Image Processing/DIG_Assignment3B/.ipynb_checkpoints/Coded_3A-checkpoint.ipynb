{
 "cells": [
  {
   "cell_type": "code",
   "execution_count": 34,
   "metadata": {},
   "outputs": [],
   "source": [
    "def getRedFreq(rgb, red):\n",
    "\n",
    "  #for loop for the red component\n",
    "    for i in range(len(rgb)):\n",
    "        if rgb[i][0] in red.keys():\n",
    "            red[(rgb[i][0])] +=1\n",
    "        else:\n",
    "            red.update({rgb[i][0] : 1})\n",
    "\n",
    "    return red"
   ]
  },
  {
   "cell_type": "code",
   "execution_count": 35,
   "metadata": {},
   "outputs": [],
   "source": [
    "def getGreenFreq(rgb, green):\n",
    "\n",
    "  #for loop for the green component    \n",
    "    for i in range(len(rgb)):\n",
    "        if rgb[i][1] in green.keys():\n",
    "            green[(rgb[i][1])] +=1\n",
    "        else:\n",
    "            green.update({rgb[i][1] : 1})\n",
    "  \n",
    "\n",
    "    return green"
   ]
  },
  {
   "cell_type": "code",
   "execution_count": 36,
   "metadata": {},
   "outputs": [],
   "source": [
    "def getBlueFreq(rgb, blue):\n",
    "\n",
    "    #for loop for the blue component\n",
    "    for i in range(len(rgb)):\n",
    "        if rgb[i][2] in blue.keys():\n",
    "            blue[(rgb[i][2])] +=1\n",
    "        else:\n",
    "            blue.update({rgb[i][2] : 1})\n",
    "            \n",
    "    return blue"
   ]
  },
  {
   "cell_type": "code",
   "execution_count": 16,
   "metadata": {},
   "outputs": [],
   "source": [
    "#Function for normalizing the frequencies\n",
    "#This is the last part to do and then output the graph!!!\n",
    "def normalize(component,normal_component,size):\n",
    "    #To normalize a component...\n",
    "    #frequency / total number of pixels ie. dimensions (256*256 and 512*512)\n",
    "    for keys in component.keys():\n",
    "        #print('this is the current key: ' + str(keys))\n",
    "        #print('This is the current key vlaue: ' + str(component[keys]))\n",
    "        normal = (component[keys] / (size[0]*size[1])) #TOTAL NUMBER OF PIXELS CHANGES DEPENDING ON THE SIZE AND FILE BEING READ\n",
    "        normal_component.update({keys:normal})\n",
    "        #print('current keys normalized value: ' + str(normal))\n",
    "        \n",
    "    return normal_component"
   ]
  },
  {
   "cell_type": "code",
   "execution_count": 19,
   "metadata": {},
   "outputs": [],
   "source": [
    "def getPixels(file):\n",
    "    string_pixel = ''\n",
    "    pixel = []\n",
    "    #THIS VALUE CHANGES DEPENDING ON THE FILE BEING READ\n",
    "    with open (file) as op:\n",
    "        for i in op.readlines():\n",
    "            string_pixel = i\n",
    "            pixel.append(string_pixel.split())\n",
    "\n",
    "    #for-loop below changes the string number into int numbers\n",
    "    for i in range(len(pixel)):\n",
    "        for j in range(len(pixel[i])):\n",
    "            pixel[i][j] = int(pixel[i][j])\n",
    "\n",
    "    #the added coded below is to take the size/total number of pixels of the image for normalizing purposes        \n",
    "    total_pixels = []\n",
    "    total_pixels.append(pixel[0][0])\n",
    "    total_pixels.append(pixel[1][0])\n",
    "\n",
    "    pixel.pop(0)\n",
    "    pixel.pop(0)\n",
    "    \n",
    "    return pixel, total_pixels"
   ]
  },
  {
   "cell_type": "code",
   "execution_count": 20,
   "metadata": {},
   "outputs": [],
   "source": [
    "#######################################################################\n",
    "#this section will have comments for each picture to avoid picture overlap\n",
    "\n",
    "import matplotlib.pyplot as plot\n",
    "\n",
    "def red_hist(red_normal):\n",
    "    plot.bar(red_normal.keys(), red_normal.values(),1.5, color = 'r')\n",
    "    plot.savefig('red_normal_hard.png')\n",
    "    plot.show()\n",
    "def green_hist(green_normal):\n",
    "    plot.bar(green_normal.keys(), green_normal.values(),1.5, color = 'g')\n",
    "    plot.savefig('green_normal_hard.png')\n",
    "    plot.show()\n",
    "def blue_hist(blue_normal):\n",
    "    plot.bar(blue_normal.keys(), blue_normal.values(),1.5, color = 'b')\n",
    "    plot.savefig('blue_normal_hard.png')\n",
    "    plot.show()"
   ]
  },
  {
   "cell_type": "code",
   "execution_count": null,
   "metadata": {},
   "outputs": [],
   "source": []
  }
 ],
 "metadata": {
  "kernelspec": {
   "display_name": "Python 3",
   "language": "python",
   "name": "python3"
  },
  "language_info": {
   "codemirror_mode": {
    "name": "ipython",
    "version": 3
   },
   "file_extension": ".py",
   "mimetype": "text/x-python",
   "name": "python",
   "nbconvert_exporter": "python",
   "pygments_lexer": "ipython3",
   "version": "3.7.4"
  }
 },
 "nbformat": 4,
 "nbformat_minor": 2
}
