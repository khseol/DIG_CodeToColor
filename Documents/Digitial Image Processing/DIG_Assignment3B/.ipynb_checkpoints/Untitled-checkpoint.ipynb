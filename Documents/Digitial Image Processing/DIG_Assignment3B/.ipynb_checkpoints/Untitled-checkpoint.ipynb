{
 "cells": [
  {
   "cell_type": "code",
   "execution_count": 6,
   "metadata": {},
   "outputs": [
    {
     "name": "stdout",
     "output_type": "stream",
     "text": [
      "9.txt\n",
      "8.txt\n",
      "5.txt\n",
      "4.txt\n",
      "6.txt\n",
      "7.txt\n",
      "3.txt\n",
      "2.txt\n",
      "1.txt\n"
     ]
    }
   ],
   "source": [
    "import os\n",
    "\n",
    "def scanFolder(parent):\n",
    "    for file_name in os.listdir(parent):\n",
    "        if file_name.endswith('.txt'):\n",
    "            print(file_name)\n",
    "    else:\n",
    "        current_path = \"\".join((parent, \"/\", file_name))\n",
    "        if os.path.isdir(current_path):\n",
    "            scanFolder(current_path)\n",
    "            \n",
    "scanFolder('/Users/kathyhseol/Anaconda/DIG_Assignment3B/assignment_3B_files/easy')"
   ]
  },
  {
   "cell_type": "code",
   "execution_count": null,
   "metadata": {},
   "outputs": [],
   "source": []
  }
 ],
 "metadata": {
  "kernelspec": {
   "display_name": "Python 3",
   "language": "python",
   "name": "python3"
  },
  "language_info": {
   "codemirror_mode": {
    "name": "ipython",
    "version": 3
   },
   "file_extension": ".py",
   "mimetype": "text/x-python",
   "name": "python",
   "nbconvert_exporter": "python",
   "pygments_lexer": "ipython3",
   "version": "3.7.4"
  }
 },
 "nbformat": 4,
 "nbformat_minor": 2
}
